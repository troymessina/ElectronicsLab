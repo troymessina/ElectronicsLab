{
  "metadata": {
    "kernelspec": {
      "name": "python",
      "display_name": "Python (Pyodide)",
      "language": "python"
    },
    "language_info": {
      "codemirror_mode": {
        "name": "python",
        "version": 3
      },
      "file_extension": ".py",
      "mimetype": "text/x-python",
      "name": "python",
      "nbconvert_exporter": "python",
      "pygments_lexer": "ipython3",
      "version": "3.8"
    }
  },
  "nbformat_minor": 5,
  "nbformat": 4,
  "cells": [
    {
      "id": "2a0772ba-5cc7-4262-8826-af73d4099f55",
      "cell_type": "markdown",
      "source": "(app:rlc)=\n# Chapter 5 - RLC Circuits\nYou might start to notice the repetition with imports. We will again import `numpy` and `matplotlib.pyplot` so we can deal with arrays of numbers and plotting. Shift-Enter the code cell below before getting started.",
      "metadata": {}
    },
    {
      "id": "e94344cd-45ca-4642-8ed0-a67208e16b70",
      "cell_type": "code",
      "source": "import matplotlib.pyplot as plt\nimport numpy as np",
      "metadata": {
        "trusted": true
      },
      "outputs": [],
      "execution_count": null
    },
    {
      "id": "d625343b-1e31-4a22-afc6-cb8ef6116dd1",
      "cell_type": "markdown",
      "source": "## Part 1 - Multistage RC Circuits\nWe want to plot the gain and the phase, $\\phi$ as functions of the signal frequency, $\\omega$. You will plot your experimental resutls and overlay the theoretical model. We will not do any fitting of the model to the data. In the code cell below\n* $\\omega$ is calculated to be an array from 0 to 100 000 in steps of 1 rad/s.\n* Constants for the resistors and capacitors are entered, but you may need to change the values if you used different resistor and capacitor values.\n* The theoretical gain and phase are calculated for you.\n* Enter your measured angular frequencies, $\\omega$.\n* Enter your measured gain.\n* Enter your measured phase, $\\phi$.\n\nThe code will plot your data and the theoretical model. A figure image will be saved for you.",
      "metadata": {}
    },
    {
      "id": "391e4346-00df-41a5-b1de-fbf2b5544117",
      "cell_type": "code",
      "source": "# theoretical data\nomega = np.linspace(0,100000, 100001)\n#experimental constants\nR1 = 1000\nR2 = 10000\nC1 = 1e-7 #100 nF\nC2 = 1e-8 #1nF\n\nprint(1/R1/C1, 1/R2/C2) #print the 1/RC values\n\n#theoretical functions\ngain_theory = omega*R1*C1/np.sqrt(1+(omega*R1*C1)**2) * omega*R2*C2/np.sqrt(1+(omega*R2*C2)**2)\nphase_theory = np.atan(1/(omega*R1*C1)) + np.atan(1/(omega*R2*C2))\n\n# experimental data\nomega_exp = np.array([])\ngain_exp = np.array([])\nphase_exp = np.array([])\n\n#Plotting the functions and measurements\nfig, (ax1, ax2) = plt.subplots(2, 1, sharex=True)\n\nax1.semilogx(omega, gain_theory, '-k', label='Theoretical Gain')\nax1.semilogx(omega_exp, gain_exp, 'ob', label='Experimental Gain')\nax1.set_ylabel('Theoretical Gain')\nax1.legend()\nax2.semilogx(omega, phase_theory, '-k', label='Theoretical Phase')\nax2.semilogx(omega_exp, phase_exp, 'ob', label='Experimental Phase')\nax2.set_ylabel(r'Phase, $\\phi$ (rad)')\nax2.legend()\nplt.xlabel(r'log($\\omega$)')\nplt.savefig('multiRC.png')\nplt.show()",
      "metadata": {
        "trusted": true
      },
      "outputs": [],
      "execution_count": null
    },
    {
      "id": "fad297da-a62e-4ba4-b8a3-84c2fe913857",
      "cell_type": "markdown",
      "source": "## Part 2 - RLC Circuits\n* Copy the code above and paste it in the code cell below.\n* Delete the second resistor and capacitor values.\n* Add a constant for your inductor value.\n* Delete the `print` statement.\n* Change the theoretical `gain_theory` to `current_theory`, and enter the math for the theoretical function\n* Edit the theoretical phase `phase_theory` with the RLC phase function.\n* Add your experimental frequencies (rad/s) to `omega_exp`.\n* Change the experimental `gain_exp` to `current_exp` and enter your measurements.\n* Add your experimental phase measurements to `phase_exp`.\n* Change the array names in the plotting section to match your new names.\n* Change the filename that is saved.\n\nRun the code to get a graph of your data with the theoretical models overlaid.",
      "metadata": {}
    },
    {
      "id": "c8f13e04-740e-42de-a448-788c3fb80e0c",
      "cell_type": "code",
      "source": "",
      "metadata": {
        "trusted": true
      },
      "outputs": [],
      "execution_count": null
    }
  ]
}