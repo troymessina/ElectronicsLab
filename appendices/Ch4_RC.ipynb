{
  "metadata": {
    "kernelspec": {
      "name": "python",
      "display_name": "Python (Pyodide)",
      "language": "python"
    },
    "language_info": {
      "codemirror_mode": {
        "name": "python",
        "version": 3
      },
      "file_extension": ".py",
      "mimetype": "text/x-python",
      "name": "python",
      "nbconvert_exporter": "python",
      "pygments_lexer": "ipython3",
      "version": "3.8"
    }
  },
  "nbformat_minor": 5,
  "nbformat": 4,
  "cells": [
    {
      "id": "19365406-7111-4604-9e23-5137278af788",
      "cell_type": "markdown",
      "source": "(app:rc)=\n# Chapter 4 - RC Circuits\nIn this experiment, we are not fitting functions to our data. So, we only need the first two libraries that we used in previous chapters.",
      "metadata": {}
    },
    {
      "id": "bd7bdb53-8969-4d86-98c6-bb41a79e5016",
      "cell_type": "code",
      "source": "import numpy as np\nimport matplotlib.pyplot as plt",
      "metadata": {
        "trusted": true
      },
      "outputs": [
        {
          "name": "stderr",
          "output_type": "stream",
          "text": "Matplotlib is building the font cache; this may take a moment.\n"
        }
      ],
      "execution_count": 1
    },
    {
      "id": "994de4c9-b958-4dfa-bafb-5fc9d4978b6d",
      "cell_type": "markdown",
      "source": "## Constants\nYou'll need to enter some constants from your experiment. These are $V_o$, $R$, and $C$.\n\n## Creating Model Functions\nInstead of fitting, you will plot the expected model function over your data. To do this we need to create a list of frequencies. In the code cell below, the frequencies are defined as `f` and `numpy` will create a list or array of frequencies from 0 to 5000 in steps of 1 Hz. Then, the code calculates the corresponding angular frequencies, $\\omega$. The code will do this for you. However, you will need to use your constants and this array of angular frequencies, `omega`, to calculate the theoretical or model functions `VR` and `VC`, which are the expected voltages on the resistor and capacitor, respectively.\n\n## Enter Your Data\nNext, you'll enter the data you collected for $V_R$ and $V_C$. You will need to enter the frequencies for which you took these measurements too. The code will calculate the angular frequencies for you. As always, there is uncertainty that you need to enter into `V_unc`. This is done as a single value that is a percentage. However, you are free to make a list of uncertainties for each voltage you measured since you may have changed oscilloscope settings for each measurement.\n\n## Plotting\nThe code will plot everything for you and save a figure for you.",
      "metadata": {}
    },
    {
      "id": "1180db23-b66b-4ec5-9554-fcc4134ae1c3",
      "cell_type": "code",
      "source": "#Constants\nVo = #peak-to-peak voltage\nR =  #resistor value\nC = #capacitor value\n\n# Frequencies\nf = np.linspace(0, 5000, 5001)#range of frequencies\nomega = 2*np.pi*f #range of omegas\n\n#Model Functions\nVR = #Use values above for R,C,omega to plot theoretical curves\nVC = \n\n#Enter your data below for f, VR, VC\nf_meas = np.array([10, 100, 200, 300, 400, 500, 600, 800, 1000, 2000, 5000])\nw_meas = f_meas * 2 * np.pi\nVR_meas = np.array([0.5, 1.96, 3.16, 3.76, 4.2, 4.64, 4.6, 4.78, 5, 5.16, 5.1])\nVC_meas = np.array([5, 4.72 ,4, 3.36, 2.8, 2.36, 2, 1.6, 1.28, 0.656, 0.27])\nV_unc = np.ones(11)*0.15\n\nplt.plot(omega, VR, '-.c', label=r'$V_R$')\nplt.plot(omega, VC, '-m', label=r'$V_C$')\nplt.errorbar(w_meas, VR_meas, yerr=V_unc, fmt='oc', label=r'$V_C$ measured')\nplt.errorbar(w_meas, VC_meas, yerr=V_unc, fmt='*m', label=r'$V_C$ measured')\nplt.xlabel(r'$\\omega$ (rad/s)')\nplt.ylabel('Voltage')\nplt.legend()\nplt.savefig('RCfilter.svg')\nplt.show()",
      "metadata": {
        "trusted": true
      },
      "outputs": [],
      "execution_count": null
    }
  ]
}